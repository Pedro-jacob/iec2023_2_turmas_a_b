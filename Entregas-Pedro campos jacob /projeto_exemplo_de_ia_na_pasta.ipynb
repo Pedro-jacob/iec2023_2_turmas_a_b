{
  "nbformat": 4,
  "nbformat_minor": 0,
  "metadata": {
    "colab": {
      "provenance": [],
      "authorship_tag": "ABX9TyO65BIcB93kb9COdss9KyCE",
      "include_colab_link": true
    },
    "kernelspec": {
      "name": "python3",
      "display_name": "Python 3"
    },
    "language_info": {
      "name": "python"
    }
  },
  "cells": [
    {
      "cell_type": "markdown",
      "metadata": {
        "id": "view-in-github",
        "colab_type": "text"
      },
      "source": [
        "<a href=\"https://colab.research.google.com/github/Pedro-jacob/iec2023_2_turmas_a_b/blob/main/Entregas-Pedro%20campos%20jacob%20/projeto_exemplo_de_ia_na_pasta.ipynb\" target=\"_parent\"><img src=\"https://colab.research.google.com/assets/colab-badge.svg\" alt=\"Open In Colab\"/></a>"
      ]
    },
    {
      "cell_type": "code",
      "execution_count": null,
      "metadata": {
        "id": "yc-Wxlh9wPcc"
      },
      "outputs": [],
      "source": []
    }
  ]
}